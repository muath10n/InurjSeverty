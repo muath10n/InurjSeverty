{
 "cells": [
  {
   "cell_type": "code",
   "execution_count": 1,
   "id": "fda6f088",
   "metadata": {},
   "outputs": [],
   "source": [
    "import pandas as pd\n",
    "import seaborn as sns\n",
    "import matplotlib.pyplot as plt\n",
    "import numpy as np\n",
    "\n",
    "import warnings\n",
    "warnings.filterwarnings('ignore')"
   ]
  },
  {
   "cell_type": "code",
   "execution_count": 2,
   "id": "fbd2dd67",
   "metadata": {},
   "outputs": [
    {
     "data": {
      "text/html": [
       "<div>\n",
       "<style scoped>\n",
       "    .dataframe tbody tr th:only-of-type {\n",
       "        vertical-align: middle;\n",
       "    }\n",
       "\n",
       "    .dataframe tbody tr th {\n",
       "        vertical-align: top;\n",
       "    }\n",
       "\n",
       "    .dataframe thead th {\n",
       "        text-align: right;\n",
       "    }\n",
       "</style>\n",
       "<table border=\"1\" class=\"dataframe\">\n",
       "  <thead>\n",
       "    <tr style=\"text-align: right;\">\n",
       "      <th></th>\n",
       "      <th>id</th>\n",
       "      <th>weight</th>\n",
       "      <th>dead</th>\n",
       "      <th>airbag</th>\n",
       "      <th>seatbelt</th>\n",
       "      <th>frontal</th>\n",
       "      <th>sex</th>\n",
       "      <th>ageOFocc</th>\n",
       "      <th>yearacc</th>\n",
       "      <th>yearVeh-year</th>\n",
       "      <th>abcat</th>\n",
       "      <th>occRole</th>\n",
       "      <th>deploy</th>\n",
       "      <th>injSeverity</th>\n",
       "      <th>AgeCar</th>\n",
       "    </tr>\n",
       "  </thead>\n",
       "  <tbody>\n",
       "    <tr>\n",
       "      <th>0</th>\n",
       "      <td>1</td>\n",
       "      <td>25.069</td>\n",
       "      <td>alive</td>\n",
       "      <td>none</td>\n",
       "      <td>belted</td>\n",
       "      <td>1</td>\n",
       "      <td>f</td>\n",
       "      <td>26</td>\n",
       "      <td>1997</td>\n",
       "      <td>1990.0</td>\n",
       "      <td>unavail</td>\n",
       "      <td>driver</td>\n",
       "      <td>0</td>\n",
       "      <td>3.0</td>\n",
       "      <td>7.0</td>\n",
       "    </tr>\n",
       "    <tr>\n",
       "      <th>1</th>\n",
       "      <td>2</td>\n",
       "      <td>25.069</td>\n",
       "      <td>alive</td>\n",
       "      <td>airbag</td>\n",
       "      <td>belted</td>\n",
       "      <td>1</td>\n",
       "      <td>f</td>\n",
       "      <td>72</td>\n",
       "      <td>1997</td>\n",
       "      <td>1995.0</td>\n",
       "      <td>deploy</td>\n",
       "      <td>driver</td>\n",
       "      <td>1</td>\n",
       "      <td>1.0</td>\n",
       "      <td>2.0</td>\n",
       "    </tr>\n",
       "    <tr>\n",
       "      <th>2</th>\n",
       "      <td>3</td>\n",
       "      <td>32.379</td>\n",
       "      <td>alive</td>\n",
       "      <td>none</td>\n",
       "      <td>none</td>\n",
       "      <td>1</td>\n",
       "      <td>f</td>\n",
       "      <td>69</td>\n",
       "      <td>1997</td>\n",
       "      <td>1988.0</td>\n",
       "      <td>unavail</td>\n",
       "      <td>driver</td>\n",
       "      <td>0</td>\n",
       "      <td>4.0</td>\n",
       "      <td>9.0</td>\n",
       "    </tr>\n",
       "    <tr>\n",
       "      <th>3</th>\n",
       "      <td>4</td>\n",
       "      <td>495.444</td>\n",
       "      <td>alive</td>\n",
       "      <td>airbag</td>\n",
       "      <td>belted</td>\n",
       "      <td>1</td>\n",
       "      <td>f</td>\n",
       "      <td>53</td>\n",
       "      <td>1997</td>\n",
       "      <td>1995.0</td>\n",
       "      <td>deploy</td>\n",
       "      <td>driver</td>\n",
       "      <td>1</td>\n",
       "      <td>1.0</td>\n",
       "      <td>2.0</td>\n",
       "    </tr>\n",
       "    <tr>\n",
       "      <th>4</th>\n",
       "      <td>5</td>\n",
       "      <td>25.069</td>\n",
       "      <td>alive</td>\n",
       "      <td>none</td>\n",
       "      <td>belted</td>\n",
       "      <td>1</td>\n",
       "      <td>f</td>\n",
       "      <td>32</td>\n",
       "      <td>1997</td>\n",
       "      <td>1988.0</td>\n",
       "      <td>unavail</td>\n",
       "      <td>driver</td>\n",
       "      <td>0</td>\n",
       "      <td>3.0</td>\n",
       "      <td>9.0</td>\n",
       "    </tr>\n",
       "  </tbody>\n",
       "</table>\n",
       "</div>"
      ],
      "text/plain": [
       "   id   weight   dead  airbag seatbelt  frontal sex  ageOFocc  yearacc  \\\n",
       "0   1   25.069  alive    none   belted        1   f        26     1997   \n",
       "1   2   25.069  alive  airbag   belted        1   f        72     1997   \n",
       "2   3   32.379  alive    none     none        1   f        69     1997   \n",
       "3   4  495.444  alive  airbag   belted        1   f        53     1997   \n",
       "4   5   25.069  alive    none   belted        1   f        32     1997   \n",
       "\n",
       "   yearVeh-year    abcat occRole  deploy  injSeverity  AgeCar  \n",
       "0        1990.0  unavail  driver       0          3.0     7.0  \n",
       "1        1995.0   deploy  driver       1          1.0     2.0  \n",
       "2        1988.0  unavail  driver       0          4.0     9.0  \n",
       "3        1995.0   deploy  driver       1          1.0     2.0  \n",
       "4        1988.0  unavail  driver       0          3.0     9.0  "
      ]
     },
     "execution_count": 2,
     "metadata": {},
     "output_type": "execute_result"
    }
   ],
   "source": [
    "df = pd.read_excel('DataSetTA.xlsx')\n",
    "df.head()"
   ]
  },
  {
   "cell_type": "markdown",
   "id": "5de1278f",
   "metadata": {},
   "source": [
    "### Exploratory Data Anaylsis"
   ]
  },
  {
   "cell_type": "code",
   "execution_count": 3,
   "id": "55e291e2",
   "metadata": {},
   "outputs": [
    {
     "data": {
      "text/plain": [
       "id               0\n",
       "weight           0\n",
       "dead             0\n",
       "airbag           0\n",
       "seatbelt         0\n",
       "frontal          0\n",
       "sex              0\n",
       "ageOFocc         0\n",
       "yearacc          0\n",
       "yearVeh-year     1\n",
       "abcat            0\n",
       "occRole          0\n",
       "deploy           0\n",
       "injSeverity     86\n",
       "AgeCar           1\n",
       "dtype: int64"
      ]
     },
     "execution_count": 3,
     "metadata": {},
     "output_type": "execute_result"
    }
   ],
   "source": [
    "# number of missing values in our dataset\n",
    "df.isna().sum()"
   ]
  },
  {
   "cell_type": "code",
   "execution_count": 4,
   "id": "4cfcb764",
   "metadata": {},
   "outputs": [],
   "source": [
    "# drop the missing values from dataset\n",
    "df=df.dropna(axis=0)\n",
    "df=df.dropna().reset_index(drop=True)"
   ]
  },
  {
   "cell_type": "code",
   "execution_count": 5,
   "id": "33ea8a74",
   "metadata": {},
   "outputs": [],
   "source": [
    "# drop the id column scince it is not going to be used for the classification\n",
    "df = df.drop(['id'], axis=1)"
   ]
  },
  {
   "cell_type": "code",
   "execution_count": 6,
   "id": "97a1e7c6",
   "metadata": {},
   "outputs": [
    {
     "data": {
      "text/plain": [
       "3.0    5873\n",
       "0.0    4364\n",
       "1.0    3903\n",
       "2.0    2895\n",
       "4.0     788\n",
       "5.0      88\n",
       "6.0       2\n",
       "Name: injSeverity, dtype: int64"
      ]
     },
     "execution_count": 6,
     "metadata": {},
     "output_type": "execute_result"
    }
   ],
   "source": [
    "df['injSeverity'].value_counts()"
   ]
  },
  {
   "cell_type": "code",
   "execution_count": 7,
   "id": "2d8b4376",
   "metadata": {},
   "outputs": [],
   "source": [
    "# drop the cluster 6, because we only have 2 values and it is impossible yo predict it\n",
    "\n",
    "df.drop(df[(df['injSeverity'] == 5.0)].index, inplace=True)\n",
    "df.drop(df[(df['injSeverity'] == 6.0)].index, inplace=True)"
   ]
  },
  {
   "cell_type": "code",
   "execution_count": 8,
   "id": "db6a62f2",
   "metadata": {},
   "outputs": [
    {
     "data": {
      "text/plain": [
       "3.0    5873\n",
       "0.0    4364\n",
       "1.0    3903\n",
       "2.0    2895\n",
       "4.0     788\n",
       "Name: injSeverity, dtype: int64"
      ]
     },
     "execution_count": 8,
     "metadata": {},
     "output_type": "execute_result"
    }
   ],
   "source": [
    "df['injSeverity'].value_counts()"
   ]
  },
  {
   "cell_type": "code",
   "execution_count": 9,
   "id": "bcbca58d",
   "metadata": {},
   "outputs": [
    {
     "data": {
      "text/html": [
       "<div>\n",
       "<style scoped>\n",
       "    .dataframe tbody tr th:only-of-type {\n",
       "        vertical-align: middle;\n",
       "    }\n",
       "\n",
       "    .dataframe tbody tr th {\n",
       "        vertical-align: top;\n",
       "    }\n",
       "\n",
       "    .dataframe thead th {\n",
       "        text-align: right;\n",
       "    }\n",
       "</style>\n",
       "<table border=\"1\" class=\"dataframe\">\n",
       "  <thead>\n",
       "    <tr style=\"text-align: right;\">\n",
       "      <th></th>\n",
       "      <th>weight</th>\n",
       "      <th>dead</th>\n",
       "      <th>airbag</th>\n",
       "      <th>seatbelt</th>\n",
       "      <th>frontal</th>\n",
       "      <th>sex</th>\n",
       "      <th>ageOFocc</th>\n",
       "      <th>yearacc</th>\n",
       "      <th>yearVeh-year</th>\n",
       "      <th>abcat</th>\n",
       "      <th>occRole</th>\n",
       "      <th>deploy</th>\n",
       "      <th>injSeverity</th>\n",
       "      <th>AgeCar</th>\n",
       "    </tr>\n",
       "  </thead>\n",
       "  <tbody>\n",
       "    <tr>\n",
       "      <th>0</th>\n",
       "      <td>25.069</td>\n",
       "      <td>alive</td>\n",
       "      <td>none</td>\n",
       "      <td>belted</td>\n",
       "      <td>1</td>\n",
       "      <td>f</td>\n",
       "      <td>26</td>\n",
       "      <td>1997</td>\n",
       "      <td>1990.0</td>\n",
       "      <td>unavail</td>\n",
       "      <td>driver</td>\n",
       "      <td>0</td>\n",
       "      <td>3.0</td>\n",
       "      <td>7.0</td>\n",
       "    </tr>\n",
       "    <tr>\n",
       "      <th>1</th>\n",
       "      <td>25.069</td>\n",
       "      <td>alive</td>\n",
       "      <td>airbag</td>\n",
       "      <td>belted</td>\n",
       "      <td>1</td>\n",
       "      <td>f</td>\n",
       "      <td>72</td>\n",
       "      <td>1997</td>\n",
       "      <td>1995.0</td>\n",
       "      <td>deploy</td>\n",
       "      <td>driver</td>\n",
       "      <td>1</td>\n",
       "      <td>1.0</td>\n",
       "      <td>2.0</td>\n",
       "    </tr>\n",
       "    <tr>\n",
       "      <th>2</th>\n",
       "      <td>32.379</td>\n",
       "      <td>alive</td>\n",
       "      <td>none</td>\n",
       "      <td>none</td>\n",
       "      <td>1</td>\n",
       "      <td>f</td>\n",
       "      <td>69</td>\n",
       "      <td>1997</td>\n",
       "      <td>1988.0</td>\n",
       "      <td>unavail</td>\n",
       "      <td>driver</td>\n",
       "      <td>0</td>\n",
       "      <td>4.0</td>\n",
       "      <td>9.0</td>\n",
       "    </tr>\n",
       "    <tr>\n",
       "      <th>3</th>\n",
       "      <td>495.444</td>\n",
       "      <td>alive</td>\n",
       "      <td>airbag</td>\n",
       "      <td>belted</td>\n",
       "      <td>1</td>\n",
       "      <td>f</td>\n",
       "      <td>53</td>\n",
       "      <td>1997</td>\n",
       "      <td>1995.0</td>\n",
       "      <td>deploy</td>\n",
       "      <td>driver</td>\n",
       "      <td>1</td>\n",
       "      <td>1.0</td>\n",
       "      <td>2.0</td>\n",
       "    </tr>\n",
       "    <tr>\n",
       "      <th>4</th>\n",
       "      <td>25.069</td>\n",
       "      <td>alive</td>\n",
       "      <td>none</td>\n",
       "      <td>belted</td>\n",
       "      <td>1</td>\n",
       "      <td>f</td>\n",
       "      <td>32</td>\n",
       "      <td>1997</td>\n",
       "      <td>1988.0</td>\n",
       "      <td>unavail</td>\n",
       "      <td>driver</td>\n",
       "      <td>0</td>\n",
       "      <td>3.0</td>\n",
       "      <td>9.0</td>\n",
       "    </tr>\n",
       "  </tbody>\n",
       "</table>\n",
       "</div>"
      ],
      "text/plain": [
       "    weight   dead  airbag seatbelt  frontal sex  ageOFocc  yearacc  \\\n",
       "0   25.069  alive    none   belted        1   f        26     1997   \n",
       "1   25.069  alive  airbag   belted        1   f        72     1997   \n",
       "2   32.379  alive    none     none        1   f        69     1997   \n",
       "3  495.444  alive  airbag   belted        1   f        53     1997   \n",
       "4   25.069  alive    none   belted        1   f        32     1997   \n",
       "\n",
       "   yearVeh-year    abcat occRole  deploy  injSeverity  AgeCar  \n",
       "0        1990.0  unavail  driver       0          3.0     7.0  \n",
       "1        1995.0   deploy  driver       1          1.0     2.0  \n",
       "2        1988.0  unavail  driver       0          4.0     9.0  \n",
       "3        1995.0   deploy  driver       1          1.0     2.0  \n",
       "4        1988.0  unavail  driver       0          3.0     9.0  "
      ]
     },
     "execution_count": 9,
     "metadata": {},
     "output_type": "execute_result"
    }
   ],
   "source": [
    "# lets try to look the data\n",
    "\n",
    "df.head()"
   ]
  },
  {
   "cell_type": "code",
   "execution_count": 10,
   "id": "1668c9ff",
   "metadata": {},
   "outputs": [
    {
     "data": {
      "text/plain": [
       "(17823, 14)"
      ]
     },
     "execution_count": 10,
     "metadata": {},
     "output_type": "execute_result"
    }
   ],
   "source": [
    "# lets try to check the shape of data\n",
    "df.shape"
   ]
  },
  {
   "cell_type": "code",
   "execution_count": 11,
   "id": "4947d2e5",
   "metadata": {},
   "outputs": [
    {
     "name": "stdout",
     "output_type": "stream",
     "text": [
      "['weight', 'dead', 'airbag', 'seatbelt', 'frontal', 'sex', 'ageOFocc', 'yearacc', 'yearVeh-year', 'abcat', 'occRole', 'deploy', 'injSeverity', 'AgeCar']\n"
     ]
    }
   ],
   "source": [
    "# check the column names of data\n",
    "print(df.columns.tolist())"
   ]
  },
  {
   "cell_type": "code",
   "execution_count": 12,
   "id": "c6472836",
   "metadata": {},
   "outputs": [
    {
     "data": {
      "text/plain": [
       "3.0    5873\n",
       "0.0    4364\n",
       "1.0    3903\n",
       "2.0    2895\n",
       "4.0     788\n",
       "Name: injSeverity, dtype: int64"
      ]
     },
     "execution_count": 12,
     "metadata": {},
     "output_type": "execute_result"
    }
   ],
   "source": [
    "# target column\n",
    "df['injSeverity'].value_counts()"
   ]
  },
  {
   "cell_type": "markdown",
   "id": "8875ac01",
   "metadata": {},
   "source": [
    "### weights column problem"
   ]
  },
  {
   "cell_type": "code",
   "execution_count": 13,
   "id": "62a11c62",
   "metadata": {},
   "outputs": [
    {
     "data": {
      "text/plain": [
       "0.000       199\n",
       "47.503       88\n",
       "86.221       85\n",
       "31.155       75\n",
       "91.427       74\n",
       "           ... \n",
       "105.865       1\n",
       "495.792       1\n",
       "18.456        1\n",
       "5442.687      1\n",
       "86.225        1\n",
       "Name: weight, Length: 6895, dtype: int64"
      ]
     },
     "execution_count": 13,
     "metadata": {},
     "output_type": "execute_result"
    }
   ],
   "source": [
    "# we can see that the wight column have outliers because, the wieght 0 indicates it is a missing value, so we will be droping lines where the weight is equal to 0\n",
    "\n",
    "df['weight'].value_counts()"
   ]
  },
  {
   "cell_type": "code",
   "execution_count": 14,
   "id": "2a417413",
   "metadata": {},
   "outputs": [],
   "source": [
    "df.drop(df[(df['weight'] == 0)].index, inplace=True)"
   ]
  },
  {
   "cell_type": "code",
   "execution_count": 15,
   "id": "ae8296f9",
   "metadata": {},
   "outputs": [
    {
     "data": {
      "image/png": "[encoded data removed]",
      "text/plain": [
       "<Figure size 1080x360 with 1 Axes>"
      ]
     },
     "metadata": {
      "needs_background": "light"
     },
     "output_type": "display_data"
    }
   ],
   "source": [
    "# now we don't have problems with the weight columns scince ther is no values 0\n",
    "plt.figure(figsize=(15,5))\n",
    "sns.countplot(x = 'weight', data=df,order=df['weight'].value_counts().index[:20] )\n",
    "plt.xticks(rotation=90)\n",
    "plt.show()"
   ]
  },
  {
   "cell_type": "code",
   "execution_count": 16,
   "id": "d9d859da",
   "metadata": {},
   "outputs": [
    {
     "data": {
      "text/html": [
       "<div>\n",
       "<style scoped>\n",
       "    .dataframe tbody tr th:only-of-type {\n",
       "        vertical-align: middle;\n",
       "    }\n",
       "\n",
       "    .dataframe tbody tr th {\n",
       "        vertical-align: top;\n",
       "    }\n",
       "\n",
       "    .dataframe thead th {\n",
       "        text-align: right;\n",
       "    }\n",
       "</style>\n",
       "<table border=\"1\" class=\"dataframe\">\n",
       "  <thead>\n",
       "    <tr style=\"text-align: right;\">\n",
       "      <th></th>\n",
       "      <th>weight</th>\n",
       "      <th>frontal</th>\n",
       "      <th>ageOFocc</th>\n",
       "      <th>yearacc</th>\n",
       "      <th>yearVeh-year</th>\n",
       "      <th>AgeCar</th>\n",
       "      <th>dead</th>\n",
       "      <th>airbag</th>\n",
       "      <th>seatbelt</th>\n",
       "      <th>sex</th>\n",
       "      <th>abcat</th>\n",
       "      <th>occRole</th>\n",
       "      <th>deploy</th>\n",
       "      <th>injSeverity</th>\n",
       "    </tr>\n",
       "  </thead>\n",
       "  <tbody>\n",
       "    <tr>\n",
       "      <th>0</th>\n",
       "      <td>25.069</td>\n",
       "      <td>1</td>\n",
       "      <td>26</td>\n",
       "      <td>1997</td>\n",
       "      <td>1990.0</td>\n",
       "      <td>7.0</td>\n",
       "      <td>0</td>\n",
       "      <td>1</td>\n",
       "      <td>0</td>\n",
       "      <td>0</td>\n",
       "      <td>2</td>\n",
       "      <td>0</td>\n",
       "      <td>0</td>\n",
       "      <td>3</td>\n",
       "    </tr>\n",
       "    <tr>\n",
       "      <th>1</th>\n",
       "      <td>25.069</td>\n",
       "      <td>1</td>\n",
       "      <td>72</td>\n",
       "      <td>1997</td>\n",
       "      <td>1995.0</td>\n",
       "      <td>2.0</td>\n",
       "      <td>0</td>\n",
       "      <td>0</td>\n",
       "      <td>0</td>\n",
       "      <td>0</td>\n",
       "      <td>0</td>\n",
       "      <td>0</td>\n",
       "      <td>1</td>\n",
       "      <td>1</td>\n",
       "    </tr>\n",
       "    <tr>\n",
       "      <th>2</th>\n",
       "      <td>32.379</td>\n",
       "      <td>1</td>\n",
       "      <td>69</td>\n",
       "      <td>1997</td>\n",
       "      <td>1988.0</td>\n",
       "      <td>9.0</td>\n",
       "      <td>0</td>\n",
       "      <td>1</td>\n",
       "      <td>1</td>\n",
       "      <td>0</td>\n",
       "      <td>2</td>\n",
       "      <td>0</td>\n",
       "      <td>0</td>\n",
       "      <td>4</td>\n",
       "    </tr>\n",
       "    <tr>\n",
       "      <th>3</th>\n",
       "      <td>495.444</td>\n",
       "      <td>1</td>\n",
       "      <td>53</td>\n",
       "      <td>1997</td>\n",
       "      <td>1995.0</td>\n",
       "      <td>2.0</td>\n",
       "      <td>0</td>\n",
       "      <td>0</td>\n",
       "      <td>0</td>\n",
       "      <td>0</td>\n",
       "      <td>0</td>\n",
       "      <td>0</td>\n",
       "      <td>1</td>\n",
       "      <td>1</td>\n",
       "    </tr>\n",
       "    <tr>\n",
       "      <th>4</th>\n",
       "      <td>25.069</td>\n",
       "      <td>1</td>\n",
       "      <td>32</td>\n",
       "      <td>1997</td>\n",
       "      <td>1988.0</td>\n",
       "      <td>9.0</td>\n",
       "      <td>0</td>\n",
       "      <td>1</td>\n",
       "      <td>0</td>\n",
       "      <td>0</td>\n",
       "      <td>2</td>\n",
       "      <td>0</td>\n",
       "      <td>0</td>\n",
       "      <td>3</td>\n",
       "    </tr>\n",
       "  </tbody>\n",
       "</table>\n",
       "</div>"
      ],
      "text/plain": [
       "    weight  frontal  ageOFocc  yearacc  yearVeh-year  AgeCar  dead  airbag  \\\n",
       "0   25.069        1        26     1997        1990.0     7.0     0       1   \n",
       "1   25.069        1        72     1997        1995.0     2.0     0       0   \n",
       "2   32.379        1        69     1997        1988.0     9.0     0       1   \n",
       "3  495.444        1        53     1997        1995.0     2.0     0       0   \n",
       "4   25.069        1        32     1997        1988.0     9.0     0       1   \n",
       "\n",
       "   seatbelt  sex  abcat  occRole  deploy  injSeverity  \n",
       "0         0    0      2        0       0            3  \n",
       "1         0    0      0        0       1            1  \n",
       "2         1    0      2        0       0            4  \n",
       "3         0    0      0        0       1            1  \n",
       "4         0    0      2        0       0            3  "
      ]
     },
     "execution_count": 16,
     "metadata": {},
     "output_type": "execute_result"
    }
   ],
   "source": [
    "# encode the categorical variables into numerical variables using the label encoder\n",
    "\n",
    "from sklearn.preprocessing import LabelEncoder\n",
    "\n",
    "headers = ['dead','airbag','seatbelt','sex','abcat','occRole','deploy','injSeverity']\n",
    "\n",
    "#making instance of labelencoder()\n",
    "le = LabelEncoder()\n",
    "\n",
    "for col in headers : \n",
    "    encoded = le.fit_transform(df[col])\n",
    "\n",
    "    # removing the original column 'Purchased' from df\n",
    "    df.drop(col, axis=1, inplace=True)\n",
    " \n",
    "    # Appending the array to our dataFrame\n",
    "    df[col] = encoded\n",
    "\n",
    "df.head()"
   ]
  },
  {
   "cell_type": "markdown",
   "id": "9c4859fd",
   "metadata": {},
   "source": [
    "### Feature selection with correlation"
   ]
  },
  {
   "cell_type": "code",
   "execution_count": 17,
   "id": "55c7b4d0",
   "metadata": {},
   "outputs": [
    {
     "data": {
      "image/png": "[encoded data removed]",
      "text/plain": [
       "<Figure size 1152x576 with 2 Axes>"
      ]
     },
     "metadata": {
      "needs_background": "light"
     },
     "output_type": "display_data"
    }
   ],
   "source": [
    "# correlation analysis\n",
    "plt.figure(figsize=(16,8))\n",
    "sns.heatmap(df.corr(), annot=True)\n",
    "plt.show()"
   ]
  },
  {
   "cell_type": "markdown",
   "id": "c1803d36",
   "metadata": {},
   "source": [
    "The features selection is the most important part, because we need to reduce the number of features used to reduce the bias of the model, the strategy is to choose the columns with high correlation and drop one of them, we have a big correlation between :\n",
    "- AgeCar and YearVeh-year, we will drop AgeCar\n",
    "- deploy and abcat, we will drop abcat \n",
    "- airbag and YearVeh-year, we will drop YearVeh-year"
   ]
  },
  {
   "cell_type": "code",
   "execution_count": 18,
   "id": "13f6d954",
   "metadata": {},
   "outputs": [],
   "source": [
    "df = df.drop(['AgeCar','abcat','yearVeh-year'], axis=1)"
   ]
  },
  {
   "cell_type": "code",
   "execution_count": 19,
   "id": "0369bcfa",
   "metadata": {},
   "outputs": [],
   "source": [
    "import copy\n",
    "\n",
    "# save the claned version of the dataset for further developements\n",
    "df_clean = copy.deepcopy(df)\n",
    "df_clean_dead = copy.deepcopy(df)"
   ]
  },
  {
   "cell_type": "markdown",
   "id": "e6c44f3a",
   "metadata": {},
   "source": [
    "### Train Test Split"
   ]
  },
  {
   "cell_type": "code",
   "execution_count": 20,
   "id": "dfba769f",
   "metadata": {},
   "outputs": [],
   "source": [
    "X = df.drop('injSeverity', axis=1).values\n",
    "y = df['injSeverity'].values"
   ]
  },
  {
   "cell_type": "code",
   "execution_count": 21,
   "id": "99b288ba",
   "metadata": {},
   "outputs": [],
   "source": [
    "from sklearn.model_selection import train_test_split\n",
    "#X_train, X_test, y_train, y_test = train_test_split(X, y, test_size = 0.40, random_state=50)\n",
    "X_train,X_test,y_train,y_test=train_test_split(X,y,test_size=0.30, random_state=42)\n"
   ]
  },
  {
   "cell_type": "code",
   "execution_count": 22,
   "id": "73acbd65",
   "metadata": {},
   "outputs": [
    {
     "data": {
      "text/plain": [
       "(12336, 10)"
      ]
     },
     "execution_count": 22,
     "metadata": {},
     "output_type": "execute_result"
    }
   ],
   "source": [
    "X_train.shape"
   ]
  },
  {
   "cell_type": "code",
   "execution_count": 23,
   "id": "339aae1b",
   "metadata": {},
   "outputs": [
    {
     "data": {
      "text/plain": [
       "(5288, 10)"
      ]
     },
     "execution_count": 23,
     "metadata": {},
     "output_type": "execute_result"
    }
   ],
   "source": [
    "X_test.shape"
   ]
  },
  {
   "cell_type": "markdown",
   "id": "abc3328d",
   "metadata": {},
   "source": [
    "### Simple Random Forest"
   ]
  },
  {
   "cell_type": "code",
   "execution_count": 30,
   "id": "7597d8d9",
   "metadata": {},
   "outputs": [
    {
     "data": {
      "text/plain": [
       "RandomForestClassifier()"
      ]
     },
     "execution_count": 30,
     "metadata": {},
     "output_type": "execute_result"
    }
   ],
   "source": [
    "from sklearn.ensemble import RandomForestClassifier\n",
    "\n",
    "dt_reg = RandomForestClassifier()\n",
    "dt_reg.fit(X_train,y_train)"
   ]
  },
  {
   "cell_type": "code",
   "execution_count": 31,
   "id": "db5762e5",
   "metadata": {},
   "outputs": [],
   "source": [
    "y_pred = dt_reg.predict(X_test)"
   ]
  },
  {
   "cell_type": "code",
   "execution_count": 32,
   "id": "2b94bb50",
   "metadata": {},
   "outputs": [
    {
     "name": "stdout",
     "output_type": "stream",
     "text": [
      "[[ 633  287  112  256    0]\n",
      " [ 339  297  144  365    0]\n",
      " [ 228  185  115  339    2]\n",
      " [ 234  245  197 1079   16]\n",
      " [   0    0    0    7  208]]\n",
      "              precision    recall  f1-score   support\n",
      "\n",
      "           0       0.44      0.49      0.47      1288\n",
      "           1       0.29      0.26      0.28      1145\n",
      "           2       0.20      0.13      0.16       869\n",
      "           3       0.53      0.61      0.57      1771\n",
      "           4       0.92      0.97      0.94       215\n",
      "\n",
      "    accuracy                           0.44      5288\n",
      "   macro avg       0.48      0.49      0.48      5288\n",
      "weighted avg       0.42      0.44      0.43      5288\n",
      "\n"
     ]
    }
   ],
   "source": [
    "from sklearn.metrics import classification_report, confusion_matrix\n",
    "print(confusion_matrix(y_test,y_pred))\n",
    "print(classification_report(y_test,y_pred))"
   ]
  },
  {
   "cell_type": "markdown",
   "id": "2af87131",
   "metadata": {},
   "source": [
    "### First step : Hypoparameters tuning for RandomForest and DecisionTree"
   ]
  },
  {
   "cell_type": "markdown",
   "id": "ad0277b3",
   "metadata": {},
   "source": [
    "We can see that our accuracy increased just by setting some spesific hypoparameters, the purpose is to do a gridsearch and try every possible combination of hypoparameters to see the improvement of the accuracy."
   ]
  },
  {
   "cell_type": "markdown",
   "id": "d7c1fd87",
   "metadata": {},
   "source": [
    "#### Random Forest"
   ]
  },
  {
   "cell_type": "code",
   "execution_count": null,
   "id": "1853d16d",
   "metadata": {},
   "outputs": [],
   "source": [
    "from sklearn.model_selection import RandomizedSearchCV\n",
    "\n",
    "rf = RandomForestClassifier()\n",
    "\n",
    "# Create the parameter grid based on the results of random search \n",
    "params = {'bootstrap': [True, False],\n",
    " 'max_depth': [2, 3, 5, 7, 10, 20],\n",
    " 'max_features': ['auto', 'sqrt'],\n",
    " 'min_samples_split': [5, 10, 20, 50, 100, 200, 300],\n",
    " 'n_estimators': [ 400, 1000, 1200, 1800, 2000]}\n",
    "\n",
    "rf_random = RandomizedSearchCV(estimator = rf, param_distributions = params, n_iter = 50, cv = 3, verbose=2, random_state=42, n_jobs = -1)"
   ]
  },
  {
   "cell_type": "code",
   "execution_count": 40,
   "id": "9f6b7c08",
   "metadata": {},
   "outputs": [
    {
     "name": "stdout",
     "output_type": "stream",
     "text": [
      "Fitting 3 folds for each of 50 candidates, totalling 150 fits\n"
     ]
    },
    {
     "data": {
      "text/plain": [
       "RandomizedSearchCV(cv=3, estimator=RandomForestClassifier(), n_iter=50,\n",
       "                   n_jobs=-1,\n",
       "                   param_distributions={'bootstrap': [True, False],\n",
       "                                        'max_depth': [2, 3, 5, 7, 10, 20],\n",
       "                                        'max_features': ['auto', 'sqrt'],\n",
       "                                        'min_samples_split': [5, 10, 20, 50,\n",
       "                                                              100, 200, 300],\n",
       "                                        'n_estimators': [400, 1000, 1200, 1800,\n",
       "                                                         2000]},\n",
       "                   random_state=42, verbose=2)"
      ]
     },
     "execution_count": 40,
     "metadata": {},
     "output_type": "execute_result"
    }
   ],
   "source": [
    "rf_random.fit(X_train, y_train)"
   ]
  },
  {
   "cell_type": "code",
   "execution_count": 41,
   "id": "1e2f9448",
   "metadata": {},
   "outputs": [
    {
     "data": {
      "text/plain": [
       "RandomForestClassifier(bootstrap=False, max_depth=20, max_features='sqrt',\n",
       "                       min_samples_split=300, n_estimators=1000)"
      ]
     },
     "execution_count": 41,
     "metadata": {},
     "output_type": "execute_result"
    }
   ],
   "source": [
    "rf_random.best_estimator_"
   ]
  },
  {
   "cell_type": "code",
   "execution_count": 42,
   "id": "9166ec1e",
   "metadata": {},
   "outputs": [
    {
     "name": "stdout",
     "output_type": "stream",
     "text": [
      "[[ 746  173    5  364    0]\n",
      " [ 385  246   17  497    0]\n",
      " [ 257  125   14  471    2]\n",
      " [ 144  150   15 1447   15]\n",
      " [   0    0    0    5  210]]\n",
      "              precision    recall  f1-score   support\n",
      "\n",
      "           0       0.49      0.58      0.53      1288\n",
      "           1       0.35      0.21      0.27      1145\n",
      "           2       0.27      0.02      0.03       869\n",
      "           3       0.52      0.82      0.64      1771\n",
      "           4       0.93      0.98      0.95       215\n",
      "\n",
      "    accuracy                           0.50      5288\n",
      "   macro avg       0.51      0.52      0.48      5288\n",
      "weighted avg       0.45      0.50      0.44      5288\n",
      "\n"
     ]
    }
   ],
   "source": [
    "from sklearn.ensemble import RandomForestClassifier\n",
    "\n",
    "dt_reg = RandomForestClassifier(max_depth=20, max_features='sqrt', min_samples_split=100, n_estimators=400)\n",
    "dt_reg.fit(X_train,y_train)\n",
    "\n",
    "y_pred = dt_reg.predict(X_test)\n",
    "\n",
    "from sklearn.metrics import classification_report, confusion_matrix\n",
    "print(confusion_matrix(y_test,y_pred))\n",
    "print(classification_report(y_test,y_pred))"
   ]
  },
  {
   "cell_type": "markdown",
   "id": "2b27f05f",
   "metadata": {},
   "source": [
    "# SMOOT tecnique applying on 5 classifiers"
   ]
  },
  {
   "cell_type": "code",
   "execution_count": 51,
   "id": "e5fc6129",
   "metadata": {},
   "outputs": [],
   "source": [
    "from imblearn.over_sampling import SMOTE\n",
    "oversample = SMOTE()\n",
    "X, y = oversample.fit_resample(X, y)"
   ]
  },
  {
   "cell_type": "code",
   "execution_count": 64,
   "id": "8355b400",
   "metadata": {},
   "outputs": [],
   "source": [
    "# train test split of data with test size of 0.2\n",
    "X_train,X_test,y_train,y_test= train_test_split(X,y,test_size=0.2,random_state=42)"
   ]
  },
  {
   "cell_type": "code",
   "execution_count": 65,
   "id": "bb35a84c",
   "metadata": {},
   "outputs": [
    {
     "data": {
      "text/plain": [
       "(23444, 10)"
      ]
     },
     "execution_count": 65,
     "metadata": {},
     "output_type": "execute_result"
    }
   ],
   "source": [
    "#traning shape of Shape \n",
    "X_train.shape"
   ]
  },
  {
   "cell_type": "code",
   "execution_count": 66,
   "id": "26c45433",
   "metadata": {},
   "outputs": [
    {
     "data": {
      "text/plain": [
       "(5861, 10)"
      ]
     },
     "execution_count": 66,
     "metadata": {},
     "output_type": "execute_result"
    }
   ],
   "source": [
    "# testing shape of data\n",
    "X_test.shape"
   ]
  },
  {
   "cell_type": "code",
   "execution_count": 69,
   "id": "cb212f5a",
   "metadata": {},
   "outputs": [
    {
     "name": "stdout",
     "output_type": "stream",
     "text": [
      "[[ 619  193  158  253    0]\n",
      " [ 308  307  254  290    0]\n",
      " [ 176  172  516  330    3]\n",
      " [  87  131   36  836   18]\n",
      " [   0    0    3    6 1165]]\n",
      "              precision    recall  f1-score   support\n",
      "\n",
      "           0       0.52      0.51      0.51      1223\n",
      "           1       0.38      0.26      0.31      1159\n",
      "           2       0.53      0.43      0.48      1197\n",
      "           3       0.49      0.75      0.59      1108\n",
      "           4       0.98      0.99      0.99      1174\n",
      "\n",
      "    accuracy                           0.59      5861\n",
      "   macro avg       0.58      0.59      0.58      5861\n",
      "weighted avg       0.58      0.59      0.58      5861\n",
      "\n"
     ]
    }
   ],
   "source": [
    "from sklearn.ensemble import RandomForestClassifier\n",
    "\n",
    "dt_reg = RandomForestClassifier(max_depth=20, max_features='sqrt', min_samples_split=100, n_estimators=400)\n",
    "dt_reg.fit(X_train,y_train)\n",
    "\n",
    "y_pred = dt_reg.predict(X_test)\n",
    "\n",
    "from sklearn.metrics import classification_report, confusion_matrix\n",
    "print(confusion_matrix(y_test,y_pred))\n",
    "print(classification_report(y_test,y_pred))"
   ]
  },
  {
   "cell_type": "code",
   "execution_count": null,
   "id": "1bfa6cd5",
   "metadata": {},
   "outputs": [],
   "source": []
  }
 ],
 "metadata": {
  "kernelspec": {
   "display_name": "Python 3 (ipykernel)",
   "language": "python",
   "name": "python3"
  },
  "language_info": {
   "codemirror_mode": {
    "name": "ipython",
    "version": 3
   },
   "file_extension": ".py",
   "mimetype": "text/x-python",
   "name": "python",
   "nbconvert_exporter": "python",
   "pygments_lexer": "ipython3",
   "version": "3.9.12"
  }
 },
 "nbformat": 4,
 "nbformat_minor": 5
}
